{
 "cells": [
  {
   "cell_type": "code",
   "execution_count": 1,
   "metadata": {},
   "outputs": [],
   "source": [
    "import cv2\n",
    "import numpy as np\n",
    "import os\n",
    "from os.path import isfile, join\n",
    "from pathlib import Path"
   ]
  },
  {
   "cell_type": "code",
   "execution_count": 2,
   "metadata": {},
   "outputs": [],
   "source": [
    "# k = range(1,36)\n",
    "k = 11\n",
    "A_start = 6833\n",
    "np.save('./Dance_Video/start.npy',A_start)\n",
    "# if A_start!=0:\n",
    "#     A_start = np.load('./Dance_Video/start.npy')\n"
   ]
  },
  {
   "cell_type": "code",
   "execution_count": 3,
   "metadata": {},
   "outputs": [],
   "source": [
    "def getFrame(sec):\n",
    "    vidcap.set(cv2.CAP_PROP_POS_MSEC,sec*1000)\n",
    "    hasFrames,image = vidcap.read()\n",
    "    A_start = np.load('./Dance_Video/start.npy')\n",
    "    if hasFrames:\n",
    "        cv2.imwrite(\"Dance_Video/P11/\"+\"{:06d}\".format(A_start)+\".png\", image)     # save frame as JPG file\n",
    "        A_start = A_start+1\n",
    "        np.save('./Dance_Video/start.npy',A_start)\n",
    "    return hasFrames"
   ]
  },
  {
   "cell_type": "code",
   "execution_count": 5,
   "metadata": {},
   "outputs": [],
   "source": [
    "for i in range(11,12):\n",
    "    \n",
    "    vidcap = cv2.VideoCapture('Dance_Video/P'+str(i)+'.mp4')\n",
    "\n",
    "    start = 0\n",
    "    end = 40\n",
    "    sec = start\n",
    "    frameRate = 1/25  #//it will capture image in each 0.5 second\n",
    "    count=0\n",
    "    success = getFrame(sec)\n",
    "\n",
    "    # while (success and sec<end):\n",
    "    while success:\n",
    "        sec = sec + frameRate\n",
    "        sec = round(sec, 2)\n",
    "        success = getFrame(sec)\n",
    "        \n",
    "    A_start = np.array(A_start, dtype=np.int)\n",
    "    \n",
    "    \n"
   ]
  },
  {
   "cell_type": "code",
   "execution_count": 8,
   "metadata": {},
   "outputs": [],
   "source": [
    "pathIn= './Dance_Video/P11'\n",
    "\n",
    "images = []\n",
    "\n",
    "\n",
    "for i in range(6833,6833+len(os.listdir(pathIn))):\n",
    "    \n",
    "    a = ('{:06}.png'.format(i))\n",
    "    images.append(a)\n",
    "    \n",
    "files = images\n",
    "\n",
    "\n",
    "for f in files:\n",
    "    path = 'Dance_Video/P11/'+ str(f)\n",
    "#     print(path)\n",
    "    img = cv2.imread(path,1)\n",
    "    rows,cols,_ = img.shape\n",
    "\n",
    "    M = cv2.getRotationMatrix2D((cols/2,rows/2),0.1,1)\n",
    "    rot_img = cv2.warpAffine(img,M,(cols,rows))\n",
    "    \n",
    "    crop_img = rot_img[:,380:1100,:]\n",
    "    \n",
    "    final_img = crop_img\n",
    "    cv2.imwrite('./Dance_Video/P11/'+f,final_img)\n",
    "#     print(final_img.shape)\n",
    "\n",
    "# cv2.namedWindow('image', cv2.WINDOW_NORMAL)\n",
    "# cv2.imshow('image',rot_img)\n",
    "# cv2.waitKey(0)\n",
    "# cv2.destroyAllWindows()"
   ]
  },
  {
   "cell_type": "code",
   "execution_count": null,
   "metadata": {},
   "outputs": [],
   "source": []
  }
 ],
 "metadata": {
  "kernelspec": {
   "display_name": "Python 3",
   "language": "python",
   "name": "python3"
  },
  "language_info": {
   "codemirror_mode": {
    "name": "ipython",
    "version": 3
   },
   "file_extension": ".py",
   "mimetype": "text/x-python",
   "name": "python",
   "nbconvert_exporter": "python",
   "pygments_lexer": "ipython3",
   "version": "3.6.5"
  }
 },
 "nbformat": 4,
 "nbformat_minor": 2
}
