{
 "cells": [
  {
   "cell_type": "code",
   "execution_count": 1,
   "metadata": {},
   "outputs": [],
   "source": [
    "# import numpy as np\n",
    "# import os\n",
    "# i=1\n",
    "# folder_name = 'video'\n",
    "# for filename in os.listdir(folder_name):\n",
    "#     src = folder_name+'/'+filename\n",
    "#     dst ='audio/video_{0}.wav'.format(i)\n",
    "#     i = i+1\n",
    "#     os.rename(src, dst) "
   ]
  },
  {
   "cell_type": "code",
   "execution_count": 4,
   "metadata": {},
   "outputs": [],
   "source": [
    "import urllib.request\n",
    "import urllib.error\n",
    "import re\n",
    "import sys\n",
    "import time\n",
    "import os\n",
    "import pipes\n",
    "def video_to_audio(fileName):\n",
    "    try:\n",
    "        file, file_extension = os.path.splitext(fileName)\n",
    "        file = pipes.quote(file)\n",
    "        video_to_wav = 'ffmpeg -i ' + file + file_extension + ' ' + file + '.wav'\n",
    "        final_audio = 'lame '+ file + '.wav' + ' ' + file + '.mp3'\n",
    "        os.system(video_to_wav)\n",
    "        os.system(final_audio)\n",
    "        #file=pipes.quote(file)\n",
    "        #os.remove(file + '.wav')\n",
    "        print(\"sucessfully converted \", fileName, \" into audio!\")\n",
    "    except OSError as err:\n",
    "        print(err.reason)\n",
    "        exit(1)\n"
   ]
  },
  {
   "cell_type": "code",
   "execution_count": 5,
   "metadata": {},
   "outputs": [
    {
     "name": "stdout",
     "output_type": "stream",
     "text": [
      "sucessfully converted  video/video_33.mp4  into audio!\n",
      "sucessfully converted  video/video_35.mp4  into audio!\n",
      "sucessfully converted  video/video_27.mp4  into audio!\n",
      "sucessfully converted  video/video_23.mp4  into audio!\n",
      "sucessfully converted  video/video_29.mp4  into audio!\n",
      "sucessfully converted  video/video_13.mp4  into audio!\n",
      "sucessfully converted  video/video_18.mp4  into audio!\n",
      "sucessfully converted  video/video_21.mp4  into audio!\n",
      "sucessfully converted  video/video_26.mp4  into audio!\n",
      "sucessfully converted  video/video_31.mp4  into audio!\n",
      "sucessfully converted  video/video_32.mp4  into audio!\n",
      "sucessfully converted  video/video_1.mp4  into audio!\n",
      "sucessfully converted  video/video_7.mp4  into audio!\n",
      "sucessfully converted  video/video_16.mp4  into audio!\n",
      "sucessfully converted  video/video_12.mp4  into audio!\n",
      "sucessfully converted  video/video_24.mp4  into audio!\n",
      "sucessfully converted  video/video_6.mp4  into audio!\n",
      "sucessfully converted  video/video_8.mp4  into audio!\n",
      "sucessfully converted  video/video_28.mp4  into audio!\n",
      "sucessfully converted  video/video_17.mp4  into audio!\n",
      "sucessfully converted  video/video_15.mp4  into audio!\n",
      "sucessfully converted  video/video_5.mp4  into audio!\n",
      "sucessfully converted  video/video_30.mp4  into audio!\n",
      "sucessfully converted  video/video_2.mp4  into audio!\n",
      "sucessfully converted  video/video_19.mp4  into audio!\n",
      "sucessfully converted  video/video_22.mp4  into audio!\n",
      "sucessfully converted  video/video_20.mp4  into audio!\n",
      "sucessfully converted  video/video_14.mp4  into audio!\n",
      "sucessfully converted  video/video_34.mp4  into audio!\n",
      "sucessfully converted  video/video_11.mp4  into audio!\n",
      "sucessfully converted  video/video_10.mp4  into audio!\n",
      "sucessfully converted  video/video_3.mp4  into audio!\n",
      "sucessfully converted  video/video_25.mp4  into audio!\n",
      "sucessfully converted  video/video_9.mp4  into audio!\n",
      "sucessfully converted  video/video_4.mp4  into audio!\n"
     ]
    }
   ],
   "source": [
    "folder_name = 'video'\n",
    "for filename in os.listdir(folder_name):\n",
    "    name = folder_name+'/'+filename\n",
    "\n",
    "    video_to_audio(name)"
   ]
  },
  {
   "cell_type": "code",
   "execution_count": null,
   "metadata": {},
   "outputs": [],
   "source": []
  }
 ],
 "metadata": {
  "kernelspec": {
   "display_name": "Python 3",
   "language": "python",
   "name": "python3"
  },
  "language_info": {
   "codemirror_mode": {
    "name": "ipython",
    "version": 3
   },
   "file_extension": ".py",
   "mimetype": "text/x-python",
   "name": "python",
   "nbconvert_exporter": "python",
   "pygments_lexer": "ipython3",
   "version": "3.6.6"
  }
 },
 "nbformat": 4,
 "nbformat_minor": 2
}
